{
 "cells": [
  {
   "cell_type": "code",
   "execution_count": 1,
   "metadata": {},
   "outputs": [],
   "source": [
    "import pandas as pd\n",
    "import numpy as np\n",
    "import re"
   ]
  },
  {
   "cell_type": "markdown",
   "metadata": {},
   "source": [
    "## Puzzle 1"
   ]
  },
  {
   "cell_type": "code",
   "execution_count": 2,
   "metadata": {},
   "outputs": [],
   "source": [
    "def container_search(bags_to_search, rule_set):\n",
    "    new_bags_to_search = []\n",
    "    \n",
    "    for item in bags_to_search:\n",
    "    \n",
    "        pattern = re.compile(r''+item)\n",
    "\n",
    "        for bag, contents in rule_set.items():\n",
    "            if (pattern.search(contents)):\n",
    "                new_bags_to_search.append(bag)\n",
    "    \n",
    "    return list(set(new_bags_to_search))"
   ]
  },
  {
   "cell_type": "code",
   "execution_count": 3,
   "metadata": {},
   "outputs": [],
   "source": [
    "def find_all_the_bags(a_bag_of_interest, rule_set):\n",
    "    possible_containers = []\n",
    "    next_search = []\n",
    "\n",
    "    next_search += [a_bag_of_interest]\n",
    "\n",
    "    while next_search != []:\n",
    "\n",
    "        if container_search(next_search, rule_set) == []:\n",
    "            break\n",
    "        else:\n",
    "\n",
    "            possible_containers += container_search(next_search, rule_set)\n",
    "\n",
    "            next_search = container_search(next_search, rule_set)\n",
    "\n",
    "    return list(set(possible_containers))\n",
    "    "
   ]
  },
  {
   "cell_type": "code",
   "execution_count": 4,
   "metadata": {},
   "outputs": [],
   "source": [
    "def parse_rules(rules_and_rules):\n",
    "    all_the_bag_rules = rules_and_rules.replace('bags','bag')\n",
    "    all_the_bag_rules = all_the_bag_rules.replace('bag ','bag')\n",
    "    all_the_bag_rules = all_the_bag_rules.split('.')\n",
    "    \n",
    "    bag_rule_dict = {}\n",
    "\n",
    "    for rule in all_the_bag_rules:\n",
    "\n",
    "        if rule != ' ':\n",
    "            k,v = rule.split('contain')\n",
    "            bag_rule_dict[k.lstrip()] = v.lstrip()\n",
    "    \n",
    "    return bag_rule_dict\n",
    "    "
   ]
  },
  {
   "cell_type": "code",
   "execution_count": 5,
   "metadata": {},
   "outputs": [],
   "source": [
    "#https://www.kite.com/python/answers/how-to-read-a-text-file-into-a-string-in-python#:~:text=Use%20file.,all%20newline%20characters%20with%20spaces.\n",
    "file = open(\"input_data/adventcode7.txt\")\n",
    "original_rules = file.read().replace(\"\\n\", \" \")\n",
    "file.close()"
   ]
  },
  {
   "cell_type": "code",
   "execution_count": 6,
   "metadata": {},
   "outputs": [],
   "source": [
    "parsed_rules = parse_rules(original_rules)"
   ]
  },
  {
   "cell_type": "code",
   "execution_count": 7,
   "metadata": {},
   "outputs": [],
   "source": [
    "result = find_all_the_bags('shiny gold bag', parsed_rules)"
   ]
  },
  {
   "cell_type": "code",
   "execution_count": 8,
   "metadata": {},
   "outputs": [
    {
     "data": {
      "text/plain": [
       "272"
      ]
     },
     "execution_count": 8,
     "metadata": {},
     "output_type": "execute_result"
    }
   ],
   "source": [
    "len(set(result))"
   ]
  },
  {
   "cell_type": "markdown",
   "metadata": {},
   "source": [
    "## Puzzle 2"
   ]
  },
  {
   "cell_type": "code",
   "execution_count": null,
   "metadata": {},
   "outputs": [],
   "source": []
  }
 ],
 "metadata": {
  "kernelspec": {
   "display_name": "Python 3",
   "language": "python",
   "name": "python3"
  },
  "language_info": {
   "codemirror_mode": {
    "name": "ipython",
    "version": 3
   },
   "file_extension": ".py",
   "mimetype": "text/x-python",
   "name": "python",
   "nbconvert_exporter": "python",
   "pygments_lexer": "ipython3",
   "version": "3.7.4"
  }
 },
 "nbformat": 4,
 "nbformat_minor": 2
}
