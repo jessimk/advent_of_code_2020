{
 "cells": [
  {
   "cell_type": "code",
   "execution_count": 1,
   "metadata": {},
   "outputs": [],
   "source": [
    "import pandas as pd\n",
    "import numpy as np"
   ]
  },
  {
   "cell_type": "markdown",
   "metadata": {},
   "source": [
    "## Puzzle 1"
   ]
  },
  {
   "cell_type": "code",
   "execution_count": 2,
   "metadata": {},
   "outputs": [],
   "source": [
    "xmas = pd.read_csv(\"input_data/adventcode9.txt\", sep=' ',\n",
    "                        header=None)\n",
    "xmas = xmas[0].tolist()"
   ]
  },
  {
   "cell_type": "code",
   "execution_count": 3,
   "metadata": {},
   "outputs": [
    {
     "name": "stdout",
     "output_type": "stream",
     "text": [
      "invalid! 167829540\n"
     ]
    }
   ],
   "source": [
    "start_idx_x = 0\n",
    "start_idx_y = 25 #preamble length\n",
    "\n",
    "for x in np.arange(start_idx_y, len(xmas),1):  \n",
    "    #set preamble\n",
    "    preamble = xmas[start_idx_x:start_idx_y]\n",
    "\n",
    "    #reset possibilities\n",
    "    possibilities = []\n",
    "    \n",
    "    #fill new possibilities with latest preamble\n",
    "    for i in preamble:\n",
    "        possibilities.extend([j + i for j in [j for j in preamble if j != i]])\n",
    "    \n",
    "    #check is number valid:\n",
    "    \n",
    "    if xmas[x] in list(set(possibilities)):\n",
    "        start_idx_x +=1\n",
    "        start_idx_y +=1\n",
    "    else:\n",
    "        print('invalid!', xmas[x])\n",
    "        break"
   ]
  },
  {
   "cell_type": "markdown",
   "metadata": {},
   "source": [
    "## Puzzle 2"
   ]
  },
  {
   "cell_type": "code",
   "execution_count": null,
   "metadata": {},
   "outputs": [],
   "source": []
  }
 ],
 "metadata": {
  "kernelspec": {
   "display_name": "Python 3",
   "language": "python",
   "name": "python3"
  },
  "language_info": {
   "codemirror_mode": {
    "name": "ipython",
    "version": 3
   },
   "file_extension": ".py",
   "mimetype": "text/x-python",
   "name": "python",
   "nbconvert_exporter": "python",
   "pygments_lexer": "ipython3",
   "version": "3.7.4"
  }
 },
 "nbformat": 4,
 "nbformat_minor": 2
}
