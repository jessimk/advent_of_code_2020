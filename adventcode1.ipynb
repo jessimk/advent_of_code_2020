{
 "cells": [
  {
   "cell_type": "code",
   "execution_count": 1,
   "metadata": {},
   "outputs": [],
   "source": [
    "import pandas as pd\n",
    "import numpy as np"
   ]
  },
  {
   "cell_type": "code",
   "execution_count": 94,
   "metadata": {},
   "outputs": [],
   "source": [
    "expenses_df = pd.read_csv(\"adventcode1.csv\",header=None, usecols=[0])"
   ]
  },
  {
   "cell_type": "code",
   "execution_count": 107,
   "metadata": {},
   "outputs": [
    {
     "data": {
      "text/html": [
       "<div>\n",
       "<style scoped>\n",
       "    .dataframe tbody tr th:only-of-type {\n",
       "        vertical-align: middle;\n",
       "    }\n",
       "\n",
       "    .dataframe tbody tr th {\n",
       "        vertical-align: top;\n",
       "    }\n",
       "\n",
       "    .dataframe thead th {\n",
       "        text-align: right;\n",
       "    }\n",
       "</style>\n",
       "<table border=\"1\" class=\"dataframe\">\n",
       "  <thead>\n",
       "    <tr style=\"text-align: right;\">\n",
       "      <th></th>\n",
       "      <th>0</th>\n",
       "    </tr>\n",
       "  </thead>\n",
       "  <tbody>\n",
       "    <tr>\n",
       "      <td>0</td>\n",
       "      <td>1735</td>\n",
       "    </tr>\n",
       "    <tr>\n",
       "      <td>1</td>\n",
       "      <td>1700</td>\n",
       "    </tr>\n",
       "    <tr>\n",
       "      <td>2</td>\n",
       "      <td>1358</td>\n",
       "    </tr>\n",
       "    <tr>\n",
       "      <td>3</td>\n",
       "      <td>1908</td>\n",
       "    </tr>\n",
       "    <tr>\n",
       "      <td>4</td>\n",
       "      <td>1634</td>\n",
       "    </tr>\n",
       "  </tbody>\n",
       "</table>\n",
       "</div>"
      ],
      "text/plain": [
       "      0\n",
       "0  1735\n",
       "1  1700\n",
       "2  1358\n",
       "3  1908\n",
       "4  1634"
      ]
     },
     "execution_count": 107,
     "metadata": {},
     "output_type": "execute_result"
    }
   ],
   "source": [
    "expenses_df.head()"
   ]
  },
  {
   "cell_type": "code",
   "execution_count": 97,
   "metadata": {},
   "outputs": [],
   "source": [
    "expenses = expenses_df[0].tolist()"
   ]
  },
  {
   "cell_type": "markdown",
   "metadata": {},
   "source": [
    "## Puzzle 1"
   ]
  },
  {
   "cell_type": "code",
   "execution_count": 105,
   "metadata": {},
   "outputs": [
    {
     "name": "stdout",
     "output_type": "stream",
     "text": [
      "1386 + 634 = 2020\n",
      "1386 x 634 = 878724\n"
     ]
    }
   ],
   "source": [
    "for n1 in expenses:\n",
    "    \n",
    "    new_candidates = expenses.copy()\n",
    "    new_candidates.remove(n1)\n",
    "\n",
    "    for n2 in new_candidates:\n",
    "\n",
    "        if n1 + n2 == 2020:\n",
    "            print(n1,\"+\",n2,\"=\",n1+n2)\n",
    "            print(n1,\"x\",n2,\"=\",n1*n2)   \n",
    "            break\n",
    "    else:\n",
    "        continue\n",
    "    break  "
   ]
  },
  {
   "cell_type": "markdown",
   "metadata": {},
   "source": [
    "## Puzzle 2"
   ]
  },
  {
   "cell_type": "code",
   "execution_count": 106,
   "metadata": {},
   "outputs": [
    {
     "name": "stdout",
     "output_type": "stream",
     "text": [
      "266 + 989 + 765 = 2020\n",
      "266 x 989 x 765 = 201251610\n"
     ]
    }
   ],
   "source": [
    "for n1 in expenses:\n",
    "    \n",
    "    new_candidates1 = expenses.copy()\n",
    "    new_candidates1.remove(n1)\n",
    "\n",
    "    for n2 in new_candidates1:\n",
    "        \n",
    "        new_candidates2 = expenses.copy()\n",
    "        new_candidates2.remove(n2)\n",
    "        \n",
    "        for n3 in new_candidates2:\n",
    "        \n",
    "            if n1 + n2 + n3 == 2020:\n",
    "                print(n1,\"+\",n2,\"+\",n3,\"=\",n1+n2+n3)\n",
    "                print(n1,\"x\",n2,\"x\",n3,\"=\",n1*n2*n3)   \n",
    "                break\n",
    "        else:\n",
    "            continue\n",
    "        break\n",
    "        \n",
    "    else:\n",
    "        continue\n",
    "    break"
   ]
  },
  {
   "cell_type": "code",
   "execution_count": null,
   "metadata": {},
   "outputs": [],
   "source": []
  }
 ],
 "metadata": {
  "kernelspec": {
   "display_name": "Python 3",
   "language": "python",
   "name": "python3"
  },
  "language_info": {
   "codemirror_mode": {
    "name": "ipython",
    "version": 3
   },
   "file_extension": ".py",
   "mimetype": "text/x-python",
   "name": "python",
   "nbconvert_exporter": "python",
   "pygments_lexer": "ipython3",
   "version": "3.7.4"
  }
 },
 "nbformat": 4,
 "nbformat_minor": 2
}
