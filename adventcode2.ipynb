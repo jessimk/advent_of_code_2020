{
 "cells": [
  {
   "cell_type": "code",
   "execution_count": 1,
   "metadata": {},
   "outputs": [],
   "source": [
    "import pandas as pd\n",
    "import numpy as np"
   ]
  },
  {
   "cell_type": "markdown",
   "metadata": {},
   "source": [
    "## Puzzle 1"
   ]
  },
  {
   "cell_type": "code",
   "execution_count": 2,
   "metadata": {},
   "outputs": [],
   "source": [
    "df = pd.read_csv(\"input_data/adventcode2.txt\",header=None, usecols=[0])\n",
    "df.columns = ['puzzle_input']"
   ]
  },
  {
   "cell_type": "code",
   "execution_count": 3,
   "metadata": {},
   "outputs": [],
   "source": [
    "df[['rule','letter','pw']] = df.puzzle_input.str.split(\" \",expand=True) "
   ]
  },
  {
   "cell_type": "code",
   "execution_count": 4,
   "metadata": {},
   "outputs": [],
   "source": [
    "df[['rule_min', 'rule_max']] = df.rule.str.split(\"-\",expand=True)\n",
    "df['letter'] = df.letter.str.replace(\":\",\"\")"
   ]
  },
  {
   "cell_type": "code",
   "execution_count": 5,
   "metadata": {},
   "outputs": [],
   "source": [
    "df['rule_min'] = df['rule_min'].astype(int)\n",
    "df['rule_max'] = df['rule_max'].astype(int)"
   ]
  },
  {
   "cell_type": "code",
   "execution_count": 6,
   "metadata": {},
   "outputs": [],
   "source": [
    "df['letter_count'] = \"\""
   ]
  },
  {
   "cell_type": "code",
   "execution_count": 7,
   "metadata": {},
   "outputs": [],
   "source": [
    "for i in np.arange(0,len(df),1):\n",
    "    df.iloc[i,6] = df.iloc[i,3].count(df.iloc[i,2])"
   ]
  },
  {
   "cell_type": "code",
   "execution_count": 8,
   "metadata": {},
   "outputs": [],
   "source": [
    "df['valid_pw1'] = df['letter_count'] <= df['rule_max']\n",
    "df['valid_pw2'] = df['letter_count'] >= df['rule_min']"
   ]
  },
  {
   "cell_type": "code",
   "execution_count": 9,
   "metadata": {},
   "outputs": [
    {
     "data": {
      "text/plain": [
       "465"
      ]
     },
     "execution_count": 9,
     "metadata": {},
     "output_type": "execute_result"
    }
   ],
   "source": [
    "len(df.query('valid_pw1 == True & valid_pw2 == True'))"
   ]
  },
  {
   "cell_type": "code",
   "execution_count": 10,
   "metadata": {},
   "outputs": [
    {
     "data": {
      "text/html": [
       "<div>\n",
       "<style scoped>\n",
       "    .dataframe tbody tr th:only-of-type {\n",
       "        vertical-align: middle;\n",
       "    }\n",
       "\n",
       "    .dataframe tbody tr th {\n",
       "        vertical-align: top;\n",
       "    }\n",
       "\n",
       "    .dataframe thead th {\n",
       "        text-align: right;\n",
       "    }\n",
       "</style>\n",
       "<table border=\"1\" class=\"dataframe\">\n",
       "  <thead>\n",
       "    <tr style=\"text-align: right;\">\n",
       "      <th></th>\n",
       "      <th>puzzle_input</th>\n",
       "      <th>rule</th>\n",
       "      <th>letter</th>\n",
       "      <th>pw</th>\n",
       "      <th>rule_min</th>\n",
       "      <th>rule_max</th>\n",
       "      <th>letter_count</th>\n",
       "      <th>valid_pw1</th>\n",
       "      <th>valid_pw2</th>\n",
       "    </tr>\n",
       "  </thead>\n",
       "  <tbody>\n",
       "    <tr>\n",
       "      <td>0</td>\n",
       "      <td>16-18 h: hhhhhhhhhhhhhhhhhh</td>\n",
       "      <td>16-18</td>\n",
       "      <td>h</td>\n",
       "      <td>hhhhhhhhhhhhhhhhhh</td>\n",
       "      <td>16</td>\n",
       "      <td>18</td>\n",
       "      <td>18</td>\n",
       "      <td>True</td>\n",
       "      <td>True</td>\n",
       "    </tr>\n",
       "    <tr>\n",
       "      <td>1</td>\n",
       "      <td>17-18 d: ddddddddddddddddzn</td>\n",
       "      <td>17-18</td>\n",
       "      <td>d</td>\n",
       "      <td>ddddddddddddddddzn</td>\n",
       "      <td>17</td>\n",
       "      <td>18</td>\n",
       "      <td>16</td>\n",
       "      <td>True</td>\n",
       "      <td>False</td>\n",
       "    </tr>\n",
       "    <tr>\n",
       "      <td>2</td>\n",
       "      <td>15-18 c: cccccccccccccczcczc</td>\n",
       "      <td>15-18</td>\n",
       "      <td>c</td>\n",
       "      <td>cccccccccccccczcczc</td>\n",
       "      <td>15</td>\n",
       "      <td>18</td>\n",
       "      <td>17</td>\n",
       "      <td>True</td>\n",
       "      <td>True</td>\n",
       "    </tr>\n",
       "    <tr>\n",
       "      <td>3</td>\n",
       "      <td>3-9 r: pplzctdrc</td>\n",
       "      <td>3-9</td>\n",
       "      <td>r</td>\n",
       "      <td>pplzctdrc</td>\n",
       "      <td>3</td>\n",
       "      <td>9</td>\n",
       "      <td>1</td>\n",
       "      <td>True</td>\n",
       "      <td>False</td>\n",
       "    </tr>\n",
       "    <tr>\n",
       "      <td>4</td>\n",
       "      <td>4-14 d: lxdmddfddddddd</td>\n",
       "      <td>4-14</td>\n",
       "      <td>d</td>\n",
       "      <td>lxdmddfddddddd</td>\n",
       "      <td>4</td>\n",
       "      <td>14</td>\n",
       "      <td>10</td>\n",
       "      <td>True</td>\n",
       "      <td>True</td>\n",
       "    </tr>\n",
       "  </tbody>\n",
       "</table>\n",
       "</div>"
      ],
      "text/plain": [
       "                   puzzle_input   rule letter                   pw  rule_min  \\\n",
       "0   16-18 h: hhhhhhhhhhhhhhhhhh  16-18      h   hhhhhhhhhhhhhhhhhh        16   \n",
       "1   17-18 d: ddddddddddddddddzn  17-18      d   ddddddddddddddddzn        17   \n",
       "2  15-18 c: cccccccccccccczcczc  15-18      c  cccccccccccccczcczc        15   \n",
       "3              3-9 r: pplzctdrc    3-9      r            pplzctdrc         3   \n",
       "4        4-14 d: lxdmddfddddddd   4-14      d       lxdmddfddddddd         4   \n",
       "\n",
       "   rule_max  letter_count  valid_pw1  valid_pw2  \n",
       "0        18            18       True       True  \n",
       "1        18            16       True      False  \n",
       "2        18            17       True       True  \n",
       "3         9             1       True      False  \n",
       "4        14            10       True       True  "
      ]
     },
     "execution_count": 10,
     "metadata": {},
     "output_type": "execute_result"
    }
   ],
   "source": [
    "df.head()"
   ]
  },
  {
   "cell_type": "markdown",
   "metadata": {},
   "source": [
    "## Puzzle 2"
   ]
  },
  {
   "cell_type": "code",
   "execution_count": 11,
   "metadata": {},
   "outputs": [
    {
     "data": {
      "text/html": [
       "<div>\n",
       "<style scoped>\n",
       "    .dataframe tbody tr th:only-of-type {\n",
       "        vertical-align: middle;\n",
       "    }\n",
       "\n",
       "    .dataframe tbody tr th {\n",
       "        vertical-align: top;\n",
       "    }\n",
       "\n",
       "    .dataframe thead th {\n",
       "        text-align: right;\n",
       "    }\n",
       "</style>\n",
       "<table border=\"1\" class=\"dataframe\">\n",
       "  <thead>\n",
       "    <tr style=\"text-align: right;\">\n",
       "      <th></th>\n",
       "      <th>puzzle_input</th>\n",
       "      <th>rule</th>\n",
       "      <th>letter</th>\n",
       "      <th>pw</th>\n",
       "      <th>rule_min</th>\n",
       "      <th>rule_max</th>\n",
       "      <th>letter_count</th>\n",
       "      <th>valid_pw1</th>\n",
       "      <th>valid_pw2</th>\n",
       "    </tr>\n",
       "  </thead>\n",
       "  <tbody>\n",
       "    <tr>\n",
       "      <td>0</td>\n",
       "      <td>16-18 h: hhhhhhhhhhhhhhhhhh</td>\n",
       "      <td>16-18</td>\n",
       "      <td>h</td>\n",
       "      <td>hhhhhhhhhhhhhhhhhh</td>\n",
       "      <td>16</td>\n",
       "      <td>18</td>\n",
       "      <td>18</td>\n",
       "      <td>True</td>\n",
       "      <td>True</td>\n",
       "    </tr>\n",
       "    <tr>\n",
       "      <td>1</td>\n",
       "      <td>17-18 d: ddddddddddddddddzn</td>\n",
       "      <td>17-18</td>\n",
       "      <td>d</td>\n",
       "      <td>ddddddddddddddddzn</td>\n",
       "      <td>17</td>\n",
       "      <td>18</td>\n",
       "      <td>16</td>\n",
       "      <td>True</td>\n",
       "      <td>False</td>\n",
       "    </tr>\n",
       "    <tr>\n",
       "      <td>2</td>\n",
       "      <td>15-18 c: cccccccccccccczcczc</td>\n",
       "      <td>15-18</td>\n",
       "      <td>c</td>\n",
       "      <td>cccccccccccccczcczc</td>\n",
       "      <td>15</td>\n",
       "      <td>18</td>\n",
       "      <td>17</td>\n",
       "      <td>True</td>\n",
       "      <td>True</td>\n",
       "    </tr>\n",
       "    <tr>\n",
       "      <td>3</td>\n",
       "      <td>3-9 r: pplzctdrc</td>\n",
       "      <td>3-9</td>\n",
       "      <td>r</td>\n",
       "      <td>pplzctdrc</td>\n",
       "      <td>3</td>\n",
       "      <td>9</td>\n",
       "      <td>1</td>\n",
       "      <td>True</td>\n",
       "      <td>False</td>\n",
       "    </tr>\n",
       "    <tr>\n",
       "      <td>4</td>\n",
       "      <td>4-14 d: lxdmddfddddddd</td>\n",
       "      <td>4-14</td>\n",
       "      <td>d</td>\n",
       "      <td>lxdmddfddddddd</td>\n",
       "      <td>4</td>\n",
       "      <td>14</td>\n",
       "      <td>10</td>\n",
       "      <td>True</td>\n",
       "      <td>True</td>\n",
       "    </tr>\n",
       "  </tbody>\n",
       "</table>\n",
       "</div>"
      ],
      "text/plain": [
       "                   puzzle_input   rule letter                   pw  rule_min  \\\n",
       "0   16-18 h: hhhhhhhhhhhhhhhhhh  16-18      h   hhhhhhhhhhhhhhhhhh        16   \n",
       "1   17-18 d: ddddddddddddddddzn  17-18      d   ddddddddddddddddzn        17   \n",
       "2  15-18 c: cccccccccccccczcczc  15-18      c  cccccccccccccczcczc        15   \n",
       "3              3-9 r: pplzctdrc    3-9      r            pplzctdrc         3   \n",
       "4        4-14 d: lxdmddfddddddd   4-14      d       lxdmddfddddddd         4   \n",
       "\n",
       "   rule_max  letter_count  valid_pw1  valid_pw2  \n",
       "0        18            18       True       True  \n",
       "1        18            16       True      False  \n",
       "2        18            17       True       True  \n",
       "3         9             1       True      False  \n",
       "4        14            10       True       True  "
      ]
     },
     "execution_count": 11,
     "metadata": {},
     "output_type": "execute_result"
    }
   ],
   "source": [
    "df2 = df\n",
    "df2.head()"
   ]
  },
  {
   "cell_type": "code",
   "execution_count": 12,
   "metadata": {},
   "outputs": [
    {
     "data": {
      "text/plain": [
       "Index(['puzzle_input', 'rule', 'letter', 'pw', 'rule_min', 'rule_max',\n",
       "       'letter_count', 'valid_pw1', 'valid_pw2'],\n",
       "      dtype='object')"
      ]
     },
     "execution_count": 12,
     "metadata": {},
     "output_type": "execute_result"
    }
   ],
   "source": [
    "df2.columns"
   ]
  },
  {
   "cell_type": "code",
   "execution_count": 13,
   "metadata": {},
   "outputs": [],
   "source": [
    "df2.columns=['puzzle_input', 'rule', 'letter', 'pw', 'pos1', 'pos2',\n",
    "       'letter_count', 'valid_pw1', 'valid_pw2']"
   ]
  },
  {
   "cell_type": "code",
   "execution_count": 14,
   "metadata": {},
   "outputs": [],
   "source": [
    "df2['pos1'] = df2['pos1'] - 1\n",
    "df2['pos2'] = df2['pos2'] - 1"
   ]
  },
  {
   "cell_type": "code",
   "execution_count": 15,
   "metadata": {},
   "outputs": [
    {
     "data": {
      "text/html": [
       "<div>\n",
       "<style scoped>\n",
       "    .dataframe tbody tr th:only-of-type {\n",
       "        vertical-align: middle;\n",
       "    }\n",
       "\n",
       "    .dataframe tbody tr th {\n",
       "        vertical-align: top;\n",
       "    }\n",
       "\n",
       "    .dataframe thead th {\n",
       "        text-align: right;\n",
       "    }\n",
       "</style>\n",
       "<table border=\"1\" class=\"dataframe\">\n",
       "  <thead>\n",
       "    <tr style=\"text-align: right;\">\n",
       "      <th></th>\n",
       "      <th>puzzle_input</th>\n",
       "      <th>rule</th>\n",
       "      <th>letter</th>\n",
       "      <th>pw</th>\n",
       "      <th>pos1</th>\n",
       "      <th>pos2</th>\n",
       "      <th>letter_count</th>\n",
       "      <th>valid_pw1</th>\n",
       "      <th>valid_pw2</th>\n",
       "    </tr>\n",
       "  </thead>\n",
       "  <tbody>\n",
       "    <tr>\n",
       "      <td>0</td>\n",
       "      <td>16-18 h: hhhhhhhhhhhhhhhhhh</td>\n",
       "      <td>16-18</td>\n",
       "      <td>h</td>\n",
       "      <td>hhhhhhhhhhhhhhhhhh</td>\n",
       "      <td>15</td>\n",
       "      <td>17</td>\n",
       "      <td>18</td>\n",
       "      <td>True</td>\n",
       "      <td>True</td>\n",
       "    </tr>\n",
       "    <tr>\n",
       "      <td>1</td>\n",
       "      <td>17-18 d: ddddddddddddddddzn</td>\n",
       "      <td>17-18</td>\n",
       "      <td>d</td>\n",
       "      <td>ddddddddddddddddzn</td>\n",
       "      <td>16</td>\n",
       "      <td>17</td>\n",
       "      <td>16</td>\n",
       "      <td>True</td>\n",
       "      <td>False</td>\n",
       "    </tr>\n",
       "    <tr>\n",
       "      <td>2</td>\n",
       "      <td>15-18 c: cccccccccccccczcczc</td>\n",
       "      <td>15-18</td>\n",
       "      <td>c</td>\n",
       "      <td>cccccccccccccczcczc</td>\n",
       "      <td>14</td>\n",
       "      <td>17</td>\n",
       "      <td>17</td>\n",
       "      <td>True</td>\n",
       "      <td>True</td>\n",
       "    </tr>\n",
       "    <tr>\n",
       "      <td>3</td>\n",
       "      <td>3-9 r: pplzctdrc</td>\n",
       "      <td>3-9</td>\n",
       "      <td>r</td>\n",
       "      <td>pplzctdrc</td>\n",
       "      <td>2</td>\n",
       "      <td>8</td>\n",
       "      <td>1</td>\n",
       "      <td>True</td>\n",
       "      <td>False</td>\n",
       "    </tr>\n",
       "    <tr>\n",
       "      <td>4</td>\n",
       "      <td>4-14 d: lxdmddfddddddd</td>\n",
       "      <td>4-14</td>\n",
       "      <td>d</td>\n",
       "      <td>lxdmddfddddddd</td>\n",
       "      <td>3</td>\n",
       "      <td>13</td>\n",
       "      <td>10</td>\n",
       "      <td>True</td>\n",
       "      <td>True</td>\n",
       "    </tr>\n",
       "  </tbody>\n",
       "</table>\n",
       "</div>"
      ],
      "text/plain": [
       "                   puzzle_input   rule letter                   pw  pos1  \\\n",
       "0   16-18 h: hhhhhhhhhhhhhhhhhh  16-18      h   hhhhhhhhhhhhhhhhhh    15   \n",
       "1   17-18 d: ddddddddddddddddzn  17-18      d   ddddddddddddddddzn    16   \n",
       "2  15-18 c: cccccccccccccczcczc  15-18      c  cccccccccccccczcczc    14   \n",
       "3              3-9 r: pplzctdrc    3-9      r            pplzctdrc     2   \n",
       "4        4-14 d: lxdmddfddddddd   4-14      d       lxdmddfddddddd     3   \n",
       "\n",
       "   pos2  letter_count  valid_pw1  valid_pw2  \n",
       "0    17            18       True       True  \n",
       "1    17            16       True      False  \n",
       "2    17            17       True       True  \n",
       "3     8             1       True      False  \n",
       "4    13            10       True       True  "
      ]
     },
     "execution_count": 15,
     "metadata": {},
     "output_type": "execute_result"
    }
   ],
   "source": [
    "df2.head()"
   ]
  },
  {
   "cell_type": "code",
   "execution_count": 16,
   "metadata": {},
   "outputs": [
    {
     "name": "stderr",
     "output_type": "stream",
     "text": [
      "/Applications/anaconda3/lib/python3.7/site-packages/ipykernel_launcher.py:3: SettingWithCopyWarning: \n",
      "A value is trying to be set on a copy of a slice from a DataFrame\n",
      "\n",
      "See the caveats in the documentation: http://pandas.pydata.org/pandas-docs/stable/user_guide/indexing.html#returning-a-view-versus-a-copy\n",
      "  This is separate from the ipykernel package so we can avoid doing imports until\n",
      "/Applications/anaconda3/lib/python3.7/site-packages/ipykernel_launcher.py:4: SettingWithCopyWarning: \n",
      "A value is trying to be set on a copy of a slice from a DataFrame\n",
      "\n",
      "See the caveats in the documentation: http://pandas.pydata.org/pandas-docs/stable/user_guide/indexing.html#returning-a-view-versus-a-copy\n",
      "  after removing the cwd from sys.path.\n"
     ]
    }
   ],
   "source": [
    "for i in np.arange(0,len(df2),1):\n",
    "    \n",
    "        df2['valid_pw1'][i] = (df2['pw'][i][df2['pos1'][i]] == df2['letter'][i])\n",
    "        df2['valid_pw2'][i] = (df2['pw'][i][df2['pos2'][i]] == df2['letter'][i])\n"
   ]
  },
  {
   "cell_type": "code",
   "execution_count": 17,
   "metadata": {},
   "outputs": [
    {
     "data": {
      "text/plain": [
       "294"
      ]
     },
     "execution_count": 17,
     "metadata": {},
     "output_type": "execute_result"
    }
   ],
   "source": [
    "len(df2.query('valid_pw1 == True & valid_pw2 == False'))+len(df2.query('valid_pw1 == False & valid_pw2 == True'))"
   ]
  },
  {
   "cell_type": "code",
   "execution_count": null,
   "metadata": {},
   "outputs": [],
   "source": []
  }
 ],
 "metadata": {
  "kernelspec": {
   "display_name": "Python 3",
   "language": "python",
   "name": "python3"
  },
  "language_info": {
   "codemirror_mode": {
    "name": "ipython",
    "version": 3
   },
   "file_extension": ".py",
   "mimetype": "text/x-python",
   "name": "python",
   "nbconvert_exporter": "python",
   "pygments_lexer": "ipython3",
   "version": "3.7.4"
  }
 },
 "nbformat": 4,
 "nbformat_minor": 2
}
